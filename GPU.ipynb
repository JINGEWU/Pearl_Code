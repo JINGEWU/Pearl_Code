{
 "cells": [
  {
   "cell_type": "code",
   "execution_count": 1,
   "id": "cef0aaae",
   "metadata": {},
   "outputs": [],
   "source": [
    "import numpy as np\n",
    "import matplotlib.pyplot as plt\n",
    "from matplotlib import ticker\n",
    "import h5py              as h5\n",
    "from sklearn.preprocessing import normalize\n",
    "import time\n",
    "from datetime import datetime\n",
    "from sklearn import model_selection\n",
    "from sklearn.model_selection import KFold\n",
    "import pandas as pd\n",
    "import tensorflow as tf\n",
    "from tensorflow.keras.callbacks import EarlyStopping\n",
    "from tensorflow.keras.models import Sequential\n",
    "from tensorflow.keras.layers import Dense,Activation\n",
    "from sklearn import model_selection\n",
    "from sklearn import metrics"
   ]
  },
  {
   "cell_type": "code",
   "execution_count": 3,
   "id": "0a1ee6ae",
   "metadata": {},
   "outputs": [],
   "source": [
    "'''\n",
    "xTrain - (nxd) training data\n",
    "yTrain - (n,)  training data\n",
    "xTest - (pxd) testing data\n",
    "yTest - (p,)  testing data\n",
    "'''\n",
    "Training = h5.File('training_data_10000.hdf5', 'r')\n",
    "xTr = Training['inputs'][...]\n",
    "yTr = Training['target'][...]\n",
    "yTr = np.reshape(yTr,(-1,1))\n",
    "\n",
    "Testing = h5.File('test_data_1000.hdf5', 'r')\n",
    "xTe = Testing['inputs'][...]\n",
    "yTe = Testing['target'][...]\n",
    "yTe = np.reshape(yTe,(-1,1))"
   ]
  },
  {
   "cell_type": "code",
   "execution_count": 4,
   "id": "668f623a",
   "metadata": {},
   "outputs": [],
   "source": [
    "X_train, X_val, y_train, y_val = model_selection.train_test_split(xTr, yTr, test_size=0.2)"
   ]
  },
  {
   "cell_type": "markdown",
   "id": "80a35c53",
   "metadata": {},
   "source": [
    "# Single ANN\n",
    "---\n",
    "The single ANN run on CPU takes 4 or 3 seconds. Maybe no significant results from GPU."
   ]
  },
  {
   "cell_type": "code",
   "execution_count": null,
   "id": "c4634a11",
   "metadata": {},
   "outputs": [],
   "source": [
    "modelGPU = tf.keras.models.Sequential()\n",
    "# Define input layer\n",
    "modelGPU.add(tf.keras.Input(shape=(256,)))\n",
    "# Define hidden layer 1\n",
    "modelGPU.add(tf.keras.layers.Dense(100, activation='tanh',name='dense_1'))\n",
    "modelGPU.add(tf.keras.layers.Dense(200, activation='tanh',name='dense_2'))\n",
    "# Define output layer\n",
    "modelGPU.add(tf.keras.layers.Dense(1,name='output'))\n",
    "\n",
    "modelGPU.compile(optimizer='Adam',loss='mse')\n",
    "early_stopping = EarlyStopping(monitor='val_loss', patience=2, verbose=2)\n",
    "startTime = datetime.now()\n",
    "history = modelGPU.fit(X_train, y_train, epochs=1000,validation_data=(X_val,y_val),\n",
    "                      verbose=2,shuffle=False,callbacks=[early_stopping])\n",
    "First_Trial = datetime.now() - startTime\n",
    "print(\"\\nTime taken: \", First_Trial)"
   ]
  },
  {
   "cell_type": "markdown",
   "id": "b4bcd61a",
   "metadata": {},
   "source": [
    "# Ensemble Method\n",
    "---\n",
    "Ensemble Method on CPU takes 20 minutes."
   ]
  },
  {
   "cell_type": "code",
   "execution_count": null,
   "id": "894e393e",
   "metadata": {},
   "outputs": [],
   "source": [
    "kf = KFold(5,shuffle=True,random_state=42)\n",
    "fold = 0\n",
    "oos_y = []\n",
    "oos_pred = []\n",
    "startTime = datetime.now()\n",
    "for train,val in kf.split(xTr):\n",
    "    fold+=1\n",
    "    print(f'Fold#{fold}')\n",
    "    \n",
    "    x_train = xTr[train]\n",
    "    y_train = yTr[train]\n",
    "    x_val = xTr[val]\n",
    "    y_val = yTr[val]\n",
    "    \n",
    "    model = Sequential()\n",
    "    initializer = tf.keras.initializers.RandomNormal(mean=0., stddev=1.)\n",
    "    model.add(Dense(100,input_dim=xTr.shape[1],kernel_initializer=initializer,activation='tanh'))\n",
    "    model.add(Dense(100,kernel_initializer=initializer,activation='tanh'))\n",
    "    model.add(Dense(1,kernel_initializer=initializer,activation='linear'))\n",
    "    model.compile(loss='mean_squared_error',optimizer='adam')\n",
    "    \n",
    "    model.fit(x_train,y_train,validation_data=(x_val,y_val),verbose=0,epochs=500)\n",
    "    # save model\n",
    "    filename = 'models/model_' + str(fold) +'.h5'\n",
    "    model.save(filename)\n",
    "    pred = model.predict(x_val)\n",
    "    oos_y.append(y_val)\n",
    "    oos_pred.append(pred)\n",
    "    \n",
    "    # Measure this fold's MSE\n",
    "    score = metrics.mean_squared_error(pred,y_val)\n",
    "    print(f'Fold score (MSE):{score}')\n",
    "First_Trial = datetime.now() - startTime\n",
    "print(\"\\nTime taken: \", First_Trial)"
   ]
  },
  {
   "cell_type": "code",
   "execution_count": null,
   "id": "edea047c",
   "metadata": {},
   "outputs": [],
   "source": [
    "# load models from file\n",
    "def load_all_models(n_models):\n",
    "    all_models = list()\n",
    "    for i in range(n_models):\n",
    "        # define filename for this ensemble\n",
    "        filename = 'models/model_' + str(i + 1) + '.h5'\n",
    "        # load model from file\n",
    "        model = load_model(filename)\n",
    "        # add to list of members\n",
    "        all_models.append(model)\n",
    "        print('>loaded %s' % filename)\n",
    "    return all_models\n",
    "n_members = 5\n",
    "members = load_all_models(n_members)\n",
    "print('Loaded %d models' % len(members))"
   ]
  },
  {
   "cell_type": "code",
   "execution_count": null,
   "id": "d039b3b2",
   "metadata": {},
   "outputs": [],
   "source": [
    "preds = []\n",
    "for model in members:\n",
    "    pred = model.predict(xTe)\n",
    "    preds.append(pred)\n",
    "Final_preds = sum(preds)/n_members\n",
    "a,b = relativeLoss(yTe,Final_preds)\n",
    "plt.figure(figsize=(7, 5))\n",
    "plt.title('Relative Loss(%) on Testing set')\n",
    "plt.scatter(range(len(a)),a,label = 'relative loss')\n",
    "plt.xlabel('sample')\n",
    "plt.gca().yaxis.set_major_formatter(ticker.FuncFormatter(to_percent))\n",
    "plt.ylim([0,6])\n",
    "string = 'minimum: %f%%\\n maximum:%f%%\\n mean:%f%%'%(b[0],b[1],b[2])\n",
    "plt.text(680,5.7,string,verticalalignment=\"top\",bbox=dict(boxstyle='round', facecolor='wheat', alpha=0.5))\n",
    "plt.savefig('Pictures/5 fold cv.png')\n",
    "plt.show()"
   ]
  }
 ],
 "metadata": {
  "kernelspec": {
   "display_name": "Python 3",
   "language": "python",
   "name": "python3"
  },
  "language_info": {
   "codemirror_mode": {
    "name": "ipython",
    "version": 3
   },
   "file_extension": ".py",
   "mimetype": "text/x-python",
   "name": "python",
   "nbconvert_exporter": "python",
   "pygments_lexer": "ipython3",
   "version": "3.9.5"
  },
  "toc": {
   "base_numbering": 1,
   "nav_menu": {},
   "number_sections": true,
   "sideBar": true,
   "skip_h1_title": false,
   "title_cell": "Table of Contents",
   "title_sidebar": "Contents",
   "toc_cell": false,
   "toc_position": {},
   "toc_section_display": true,
   "toc_window_display": false
  },
  "varInspector": {
   "cols": {
    "lenName": 16,
    "lenType": 16,
    "lenVar": 40
   },
   "kernels_config": {
    "python": {
     "delete_cmd_postfix": "",
     "delete_cmd_prefix": "del ",
     "library": "var_list.py",
     "varRefreshCmd": "print(var_dic_list())"
    },
    "r": {
     "delete_cmd_postfix": ") ",
     "delete_cmd_prefix": "rm(",
     "library": "var_list.r",
     "varRefreshCmd": "cat(var_dic_list()) "
    }
   },
   "types_to_exclude": [
    "module",
    "function",
    "builtin_function_or_method",
    "instance",
    "_Feature"
   ],
   "window_display": false
  }
 },
 "nbformat": 4,
 "nbformat_minor": 5
}
